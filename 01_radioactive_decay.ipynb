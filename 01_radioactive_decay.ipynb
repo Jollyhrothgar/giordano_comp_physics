{
 "cells": [
  {
   "cell_type": "markdown",
   "id": "68883880-4db0-40fb-b7df-45c80afbaf4c",
   "metadata": {},
   "source": [
    "# Chapter 1 - Radioactive Decay"
   ]
  },
  {
   "cell_type": "code",
   "execution_count": 2,
   "id": "a85e0d1c-984a-453f-995a-013a7807e0a7",
   "metadata": {},
   "outputs": [],
   "source": [
    "import numpy as np\n",
    "import seaborn as sns\n",
    "import matplotlib.pyplot as plt\n",
    "import pandas as pd"
   ]
  },
  {
   "cell_type": "markdown",
   "id": "0b3510df-02ce-4ac1-951d-77c0b67e38e2",
   "metadata": {},
   "source": [
    "## The equation\n",
    "\n",
    "The equation describing radioacive decay is\n",
    "\n",
    "$$ {dN \\over dt} = - {N \\over \\tau}$$"
   ]
  },
  {
   "cell_type": "markdown",
   "id": "1330fb35-ccd7-47de-be66-5a1e952f6382",
   "metadata": {},
   "source": [
    "Concretely, this means that for a radioactive nucleus, the decay rate of nucleons is directly proportional to the number of remaining nucleons over the time constant, $\\tau$.\n",
    "\n",
    "This differential equation has an analytic solution:\n",
    "\n",
    "$$N(t) = N_{i} e ^ {-t \\over \\tau}$$\n",
    "\n",
    "Where $N_{i}$ is the intial number of un-decayed nucleons."
   ]
  },
  {
   "cell_type": "markdown",
   "id": "4e9fc551-bac9-410c-bf6b-83015023935c",
   "metadata": {},
   "source": [
    "## Numerical Approach\n",
    "\n",
    "While we _know_ the analytical solution to radioactive decay (and therefore we do not _need_ a an approximate solution), we will use the problem of radio-active decay to demonstrate a numerical method.\n",
    "\n",
    "By performing a taylor expansion on the differential equation describing radioacive decay, we can arbitrarily approximate the solution to the diferential equation with subsequently higher taylor terms."
   ]
  },
  {
   "cell_type": "markdown",
   "id": "a350572d-70c8-44e0-8053-f5117f2cdc42",
   "metadata": {},
   "source": [
    "### Taylor Exapansion\n",
    "\n",
    "$$ {dN \\over dt } \\approx N_i + {dN \\over dt} \\Delta t + {1 \\over 2}{d^2N \\over dt^2}(\\Delta t)^2 \\cdots  $$"
   ]
  },
  {
   "cell_type": "markdown",
   "id": "e4a70405-47c0-4a09-a35e-65512f8108af",
   "metadata": {},
   "source": [
    "### Approximation\n",
    "\n",
    "Since the functional form of the derivative is already known, we can drop in the definition of the first derivative and use a small time step to estimate the next time step."
   ]
  },
  {
   "cell_type": "markdown",
   "id": "dd67b4f4-21fc-4a9a-96d9-768c7834cc56",
   "metadata": {},
   "source": [
    "Putting this together, and dropping subsequent terms, we can form an iterative relationship between the currently known number of nucleons and the _next_ estimated number of nucleons by looking at the first order term:\n",
    "\n",
    " \n",
    "$$ {dN \\over dt } \\approx N_i + {dN \\over dt} \\Delta t \\rightarrow N(t+\\Delta t) \\approx N(t) - {N(t) \\over \\tau } \\Delta t$$"
   ]
  },
  {
   "cell_type": "markdown",
   "id": "a00c7ea3-c87d-4468-9dcd-5c633036eb8d",
   "metadata": {},
   "source": [
    "### Modeling\n",
    "\n",
    "Now, we can start with a particular nuclei count, and a small time-stamp, and then compute the expected value of nuclei at some future time, t. We can 'step' our way there by applying a fixed number of time-stamps, with a time-granularity."
   ]
  },
  {
   "cell_type": "markdown",
   "id": "afca5b8c-59b1-4372-832d-bdf28f976016",
   "metadata": {},
   "source": [
    "# Uranium\n",
    "\n",
    "It takes 4.5 billion years for 50% of uranium to decay. Choosing units of time as 100,000,000 years, we can then choose an appropritate value for $\\tau$."
   ]
  },
  {
   "cell_type": "markdown",
   "id": "1c4befe8-6dad-4a4e-a894-2bfb7728670b",
   "metadata": {},
   "source": [
    "1. $$ 0.5 = 1.0 \\times e ^ {-4.5 \\over \\tau}$$\n",
    "2. $$ log_e(0.5) = {-4.5 \\over \\tau}$$\n",
    "3. $$ { 1 \\over log_e(0.5) }  = {\\tau \\over -4.5}$$\n",
    "4. $$ { 1 \\over log_e(0.5) } \\times -4.5 = \\tau $$\n",
    "5. $$ \\tau = -6.492127684 $$"
   ]
  },
  {
   "cell_type": "markdown",
   "id": "1d1d3b14-55af-4a73-a067-1fbf503a51b3",
   "metadata": {},
   "source": [
    "## Simulations\n",
    "\n",
    "Simulate the amount of remaining uranium, given an inital amount of uranium."
   ]
  },
  {
   "cell_type": "code",
   "execution_count": 72,
   "id": "6003df85-94ba-447a-ad9a-8b3ed72be640",
   "metadata": {},
   "outputs": [],
   "source": [
    "def create_base_dataset(n_atoms, tau, time_begin, time_end, intervals):\n",
    "  delta_t = (time_end - time_begin) / intervals\n",
    "  print(f\"Delta t: {delta_t} billion years\")\n",
    "  print(f\"Intervals: {intervals}\")\n",
    "  print(f\"Inital atoms: {n_atoms}\")\n",
    "  \n",
    "  current_time = time_begin\n",
    "  out = []\n",
    "  curr_atoms = n_atoms\n",
    "  while current_time <= time_end:\n",
    "    next_atoms = curr_atoms + curr_atoms / tau * delta_t\n",
    "    next_atoms_exact = n_atoms * np.exp(current_time / tau)\n",
    "    out.append({\n",
    "      'time': current_time,\n",
    "      'n_atoms_approx': curr_atoms,\n",
    "      'n_atoms_exact': next_atoms_exact,\n",
    "      'pct_error': np.fabs(curr_atoms - next_atoms_exact)/next_atoms_exact\n",
    "    })\n",
    "    current_time += delta_t\n",
    "    curr_atoms = next_atoms\n",
    "  return pd.DataFrame.from_records(out).set_index('time')"
   ]
  },
  {
   "cell_type": "code",
   "execution_count": 73,
   "id": "734acb1f-301e-4fe7-a0ae-f234137a2142",
   "metadata": {},
   "outputs": [
    {
     "name": "stdout",
     "output_type": "stream",
     "text": [
      "Delta t: 0.045 billion years\n",
      "Intervals: 100\n",
      "Inital atoms: 100\n"
     ]
    }
   ],
   "source": [
    "df = create_base_dataset(n_atoms=100, time_begin=0, time_end=4.5, intervals=100, tau=-6.492127684)"
   ]
  },
  {
   "cell_type": "code",
   "execution_count": 75,
   "id": "27b3d878-1736-4fbe-8ea9-1b570165b44c",
   "metadata": {},
   "outputs": [
    {
     "data": {
      "text/plain": [
       "<AxesSubplot:xlabel='time'>"
      ]
     },
     "execution_count": 75,
     "metadata": {},
     "output_type": "execute_result"
    },
    {
     "data": {
      "image/png": "[encoded data removed]",
      "text/plain": [
       "<Figure size 720x360 with 2 Axes>"
      ]
     },
     "metadata": {
      "needs_background": "light"
     },
     "output_type": "display_data"
    }
   ],
   "source": [
    "fig, (ax_l, ax_r) = plt.subplots(nrows=1, ncols=2, figsize=(10,5))\n",
    "df[['n_atoms_approx', 'n_atoms_exact']].plot(ax=ax_l)\n",
    "df['pct_error'].plot(ax=ax_r)"
   ]
  },
  {
   "cell_type": "code",
   "execution_count": null,
   "id": "1b23cdcd-e39b-4498-bdcc-9658c20cbab2",
   "metadata": {},
   "outputs": [],
   "source": []
  }
 ],
 "metadata": {
  "kernelspec": {
   "display_name": "Python 3 (ipykernel)",
   "language": "python",
   "name": "python3"
  },
  "language_info": {
   "codemirror_mode": {
    "name": "ipython",
    "version": 3
   },
   "file_extension": ".py",
   "mimetype": "text/x-python",
   "name": "python",
   "nbconvert_exporter": "python",
   "pygments_lexer": "ipython3",
   "version": "3.9.7"
  }
 },
 "nbformat": 4,
 "nbformat_minor": 5
}
